{
 "cells": [
  {
   "cell_type": "markdown",
   "id": "3294ca57-386b-4b33-9d6a-f63929041e78",
   "metadata": {},
   "source": [
    "# Installing TensorFlow, Keras and TensorFlow Addons"
   ]
  },
  {
   "cell_type": "code",
   "execution_count": 2,
   "id": "e2270d9a-b40d-4f5e-9053-3c955149baeb",
   "metadata": {},
   "outputs": [
    {
     "name": "stdout",
     "output_type": "stream",
     "text": [
      "Requirement already satisfied: tensorflow in c:\\users\\atreyee\\anaconda3\\lib\\site-packages (2.16.1)\n",
      "Requirement already satisfied: tensorflow-intel==2.16.1 in c:\\users\\atreyee\\anaconda3\\lib\\site-packages (from tensorflow) (2.16.1)\n",
      "Requirement already satisfied: absl-py>=1.0.0 in c:\\users\\atreyee\\anaconda3\\lib\\site-packages (from tensorflow-intel==2.16.1->tensorflow) (1.4.0)\n",
      "Requirement already satisfied: astunparse>=1.6.0 in c:\\users\\atreyee\\anaconda3\\lib\\site-packages (from tensorflow-intel==2.16.1->tensorflow) (1.6.3)\n",
      "Requirement already satisfied: flatbuffers>=23.5.26 in c:\\users\\atreyee\\anaconda3\\lib\\site-packages (from tensorflow-intel==2.16.1->tensorflow) (24.3.25)\n",
      "Requirement already satisfied: gast!=0.5.0,!=0.5.1,!=0.5.2,>=0.2.1 in c:\\users\\atreyee\\anaconda3\\lib\\site-packages (from tensorflow-intel==2.16.1->tensorflow) (0.4.0)\n",
      "Requirement already satisfied: google-pasta>=0.1.1 in c:\\users\\atreyee\\anaconda3\\lib\\site-packages (from tensorflow-intel==2.16.1->tensorflow) (0.2.0)\n",
      "Requirement already satisfied: h5py>=3.10.0 in c:\\users\\atreyee\\anaconda3\\lib\\site-packages (from tensorflow-intel==2.16.1->tensorflow) (3.10.0)\n",
      "Requirement already satisfied: libclang>=13.0.0 in c:\\users\\atreyee\\anaconda3\\lib\\site-packages (from tensorflow-intel==2.16.1->tensorflow) (18.1.1)\n",
      "Requirement already satisfied: ml-dtypes~=0.3.1 in c:\\users\\atreyee\\anaconda3\\lib\\site-packages (from tensorflow-intel==2.16.1->tensorflow) (0.3.2)\n",
      "Requirement already satisfied: opt-einsum>=2.3.2 in c:\\users\\atreyee\\anaconda3\\lib\\site-packages (from tensorflow-intel==2.16.1->tensorflow) (3.3.0)\n",
      "Requirement already satisfied: packaging in c:\\users\\atreyee\\anaconda3\\lib\\site-packages (from tensorflow-intel==2.16.1->tensorflow) (23.1)\n",
      "Requirement already satisfied: protobuf!=4.21.0,!=4.21.1,!=4.21.2,!=4.21.3,!=4.21.4,!=4.21.5,<5.0.0dev,>=3.20.3 in c:\\users\\atreyee\\anaconda3\\lib\\site-packages (from tensorflow-intel==2.16.1->tensorflow) (3.20.3)\n",
      "Requirement already satisfied: requests<3,>=2.21.0 in c:\\users\\atreyee\\anaconda3\\lib\\site-packages (from tensorflow-intel==2.16.1->tensorflow) (2.31.0)\n",
      "Requirement already satisfied: setuptools in c:\\users\\atreyee\\anaconda3\\lib\\site-packages (from tensorflow-intel==2.16.1->tensorflow) (68.2.2)\n",
      "Requirement already satisfied: six>=1.12.0 in c:\\users\\atreyee\\anaconda3\\lib\\site-packages (from tensorflow-intel==2.16.1->tensorflow) (1.16.0)\n",
      "Requirement already satisfied: termcolor>=1.1.0 in c:\\users\\atreyee\\anaconda3\\lib\\site-packages (from tensorflow-intel==2.16.1->tensorflow) (2.4.0)\n",
      "Requirement already satisfied: typing-extensions>=3.6.6 in c:\\users\\atreyee\\anaconda3\\lib\\site-packages (from tensorflow-intel==2.16.1->tensorflow) (4.9.0)\n",
      "Requirement already satisfied: wrapt>=1.11.0 in c:\\users\\atreyee\\anaconda3\\lib\\site-packages (from tensorflow-intel==2.16.1->tensorflow) (1.14.1)\n",
      "Requirement already satisfied: grpcio<2.0,>=1.24.3 in c:\\users\\atreyee\\anaconda3\\lib\\site-packages (from tensorflow-intel==2.16.1->tensorflow) (1.62.1)\n",
      "Requirement already satisfied: tensorboard<2.17,>=2.16 in c:\\users\\atreyee\\anaconda3\\lib\\site-packages (from tensorflow-intel==2.16.1->tensorflow) (2.16.2)\n",
      "Requirement already satisfied: keras>=3.0.0 in c:\\users\\atreyee\\anaconda3\\lib\\site-packages (from tensorflow-intel==2.16.1->tensorflow) (3.1.1)\n",
      "Requirement already satisfied: tensorflow-io-gcs-filesystem>=0.23.1 in c:\\users\\atreyee\\anaconda3\\lib\\site-packages (from tensorflow-intel==2.16.1->tensorflow) (0.31.0)\n",
      "Requirement already satisfied: numpy<2.0.0,>=1.23.5 in c:\\users\\atreyee\\anaconda3\\lib\\site-packages (from tensorflow-intel==2.16.1->tensorflow) (1.23.5)\n",
      "Requirement already satisfied: wheel<1.0,>=0.23.0 in c:\\users\\atreyee\\anaconda3\\lib\\site-packages (from astunparse>=1.6.0->tensorflow-intel==2.16.1->tensorflow) (0.41.2)\n",
      "Requirement already satisfied: rich in c:\\users\\atreyee\\anaconda3\\lib\\site-packages (from keras>=3.0.0->tensorflow-intel==2.16.1->tensorflow) (13.3.5)\n",
      "Requirement already satisfied: namex in c:\\users\\atreyee\\anaconda3\\lib\\site-packages (from keras>=3.0.0->tensorflow-intel==2.16.1->tensorflow) (0.0.7)\n",
      "Requirement already satisfied: optree in c:\\users\\atreyee\\anaconda3\\lib\\site-packages (from keras>=3.0.0->tensorflow-intel==2.16.1->tensorflow) (0.11.0)\n",
      "Requirement already satisfied: charset-normalizer<4,>=2 in c:\\users\\atreyee\\anaconda3\\lib\\site-packages (from requests<3,>=2.21.0->tensorflow-intel==2.16.1->tensorflow) (2.0.4)\n",
      "Requirement already satisfied: idna<4,>=2.5 in c:\\users\\atreyee\\anaconda3\\lib\\site-packages (from requests<3,>=2.21.0->tensorflow-intel==2.16.1->tensorflow) (3.4)\n",
      "Requirement already satisfied: urllib3<3,>=1.21.1 in c:\\users\\atreyee\\anaconda3\\lib\\site-packages (from requests<3,>=2.21.0->tensorflow-intel==2.16.1->tensorflow) (2.0.7)\n",
      "Requirement already satisfied: certifi>=2017.4.17 in c:\\users\\atreyee\\anaconda3\\lib\\site-packages (from requests<3,>=2.21.0->tensorflow-intel==2.16.1->tensorflow) (2024.2.2)\n",
      "Requirement already satisfied: markdown>=2.6.8 in c:\\users\\atreyee\\anaconda3\\lib\\site-packages (from tensorboard<2.17,>=2.16->tensorflow-intel==2.16.1->tensorflow) (3.4.1)\n",
      "Requirement already satisfied: tensorboard-data-server<0.8.0,>=0.7.0 in c:\\users\\atreyee\\anaconda3\\lib\\site-packages (from tensorboard<2.17,>=2.16->tensorflow-intel==2.16.1->tensorflow) (0.7.2)\n",
      "Requirement already satisfied: werkzeug>=1.0.1 in c:\\users\\atreyee\\anaconda3\\lib\\site-packages (from tensorboard<2.17,>=2.16->tensorflow-intel==2.16.1->tensorflow) (2.2.3)\n",
      "Requirement already satisfied: MarkupSafe>=2.1.1 in c:\\users\\atreyee\\anaconda3\\lib\\site-packages (from werkzeug>=1.0.1->tensorboard<2.17,>=2.16->tensorflow-intel==2.16.1->tensorflow) (2.1.3)\n",
      "Requirement already satisfied: markdown-it-py<3.0.0,>=2.2.0 in c:\\users\\atreyee\\anaconda3\\lib\\site-packages (from rich->keras>=3.0.0->tensorflow-intel==2.16.1->tensorflow) (2.2.0)\n",
      "Requirement already satisfied: pygments<3.0.0,>=2.13.0 in c:\\users\\atreyee\\anaconda3\\lib\\site-packages (from rich->keras>=3.0.0->tensorflow-intel==2.16.1->tensorflow) (2.15.1)\n",
      "Requirement already satisfied: mdurl~=0.1 in c:\\users\\atreyee\\anaconda3\\lib\\site-packages (from markdown-it-py<3.0.0,>=2.2.0->rich->keras>=3.0.0->tensorflow-intel==2.16.1->tensorflow) (0.1.0)\n",
      "Requirement already satisfied: keras in c:\\users\\atreyee\\anaconda3\\lib\\site-packages (3.1.1)\n",
      "Requirement already satisfied: absl-py in c:\\users\\atreyee\\anaconda3\\lib\\site-packages (from keras) (1.4.0)\n",
      "Requirement already satisfied: numpy in c:\\users\\atreyee\\anaconda3\\lib\\site-packages (from keras) (1.23.5)\n",
      "Requirement already satisfied: rich in c:\\users\\atreyee\\anaconda3\\lib\\site-packages (from keras) (13.3.5)\n",
      "Requirement already satisfied: namex in c:\\users\\atreyee\\anaconda3\\lib\\site-packages (from keras) (0.0.7)\n",
      "Requirement already satisfied: h5py in c:\\users\\atreyee\\anaconda3\\lib\\site-packages (from keras) (3.10.0)\n",
      "Requirement already satisfied: optree in c:\\users\\atreyee\\anaconda3\\lib\\site-packages (from keras) (0.11.0)\n",
      "Requirement already satisfied: ml-dtypes in c:\\users\\atreyee\\anaconda3\\lib\\site-packages (from keras) (0.3.2)\n",
      "Requirement already satisfied: typing-extensions>=4.0.0 in c:\\users\\atreyee\\anaconda3\\lib\\site-packages (from optree->keras) (4.9.0)\n",
      "Requirement already satisfied: markdown-it-py<3.0.0,>=2.2.0 in c:\\users\\atreyee\\anaconda3\\lib\\site-packages (from rich->keras) (2.2.0)\n",
      "Requirement already satisfied: pygments<3.0.0,>=2.13.0 in c:\\users\\atreyee\\anaconda3\\lib\\site-packages (from rich->keras) (2.15.1)\n",
      "Requirement already satisfied: mdurl~=0.1 in c:\\users\\atreyee\\anaconda3\\lib\\site-packages (from markdown-it-py<3.0.0,>=2.2.0->rich->keras) (0.1.0)\n",
      "Requirement already satisfied: tensorflow_addons in c:\\users\\atreyee\\anaconda3\\lib\\site-packages (0.20.0)\n",
      "Requirement already satisfied: typeguard<3.0.0,>=2.7 in c:\\users\\atreyee\\anaconda3\\lib\\site-packages (from tensorflow_addons) (2.13.3)\n",
      "Requirement already satisfied: packaging in c:\\users\\atreyee\\anaconda3\\lib\\site-packages (from tensorflow_addons) (23.1)\n"
     ]
    }
   ],
   "source": [
    "!pip install tensorflow\n",
    "!pip install keras\n",
    "!pip install tensorflow_addons"
   ]
  },
  {
   "cell_type": "markdown",
   "id": "4529c16a-4bbf-448d-81e4-4c10765ac389",
   "metadata": {},
   "source": [
    "# Importing libraries and dataset"
   ]
  },
  {
   "cell_type": "code",
   "execution_count": 4,
   "id": "b3867820-9149-4317-89b8-29608134925b",
   "metadata": {},
   "outputs": [
    {
     "ename": "AttributeError",
     "evalue": "module 'keras._tf_keras.keras.layers' has no attribute 'AbstractRNNCell'",
     "output_type": "error",
     "traceback": [
      "\u001b[1;31m---------------------------------------------------------------------------\u001b[0m",
      "\u001b[1;31mAttributeError\u001b[0m                            Traceback (most recent call last)",
      "Cell \u001b[1;32mIn[4], line 6\u001b[0m\n\u001b[0;32m      4\u001b[0m \u001b[38;5;28;01mfrom\u001b[39;00m \u001b[38;5;21;01mtensorflow\u001b[39;00m \u001b[38;5;28;01mimport\u001b[39;00m keras\n\u001b[0;32m      5\u001b[0m \u001b[38;5;28;01mfrom\u001b[39;00m \u001b[38;5;21;01mtensorflow\u001b[39;00m\u001b[38;5;21;01m.\u001b[39;00m\u001b[38;5;21;01mkeras\u001b[39;00m \u001b[38;5;28;01mimport\u001b[39;00m layers\n\u001b[1;32m----> 6\u001b[0m \u001b[38;5;28;01mimport\u001b[39;00m \u001b[38;5;21;01mtensorflow_addons\u001b[39;00m \u001b[38;5;28;01mas\u001b[39;00m \u001b[38;5;21;01mtfa\u001b[39;00m\n",
      "File \u001b[1;32m~\\anaconda3\\Lib\\site-packages\\tensorflow_addons\\__init__.py:26\u001b[0m\n\u001b[0;32m     24\u001b[0m \u001b[38;5;28;01mfrom\u001b[39;00m \u001b[38;5;21;01mtensorflow_addons\u001b[39;00m \u001b[38;5;28;01mimport\u001b[39;00m callbacks\n\u001b[0;32m     25\u001b[0m \u001b[38;5;28;01mfrom\u001b[39;00m \u001b[38;5;21;01mtensorflow_addons\u001b[39;00m \u001b[38;5;28;01mimport\u001b[39;00m image\n\u001b[1;32m---> 26\u001b[0m \u001b[38;5;28;01mfrom\u001b[39;00m \u001b[38;5;21;01mtensorflow_addons\u001b[39;00m \u001b[38;5;28;01mimport\u001b[39;00m layers\n\u001b[0;32m     27\u001b[0m \u001b[38;5;28;01mfrom\u001b[39;00m \u001b[38;5;21;01mtensorflow_addons\u001b[39;00m \u001b[38;5;28;01mimport\u001b[39;00m losses\n\u001b[0;32m     28\u001b[0m \u001b[38;5;28;01mfrom\u001b[39;00m \u001b[38;5;21;01mtensorflow_addons\u001b[39;00m \u001b[38;5;28;01mimport\u001b[39;00m metrics\n",
      "File \u001b[1;32m~\\anaconda3\\Lib\\site-packages\\tensorflow_addons\\layers\\__init__.py:44\u001b[0m\n\u001b[0;32m     42\u001b[0m \u001b[38;5;28;01mfrom\u001b[39;00m \u001b[38;5;21;01mtensorflow_addons\u001b[39;00m\u001b[38;5;21;01m.\u001b[39;00m\u001b[38;5;21;01mlayers\u001b[39;00m\u001b[38;5;21;01m.\u001b[39;00m\u001b[38;5;21;01mtlu\u001b[39;00m \u001b[38;5;28;01mimport\u001b[39;00m TLU\n\u001b[0;32m     43\u001b[0m \u001b[38;5;28;01mfrom\u001b[39;00m \u001b[38;5;21;01mtensorflow_addons\u001b[39;00m\u001b[38;5;21;01m.\u001b[39;00m\u001b[38;5;21;01mlayers\u001b[39;00m\u001b[38;5;21;01m.\u001b[39;00m\u001b[38;5;21;01mwrappers\u001b[39;00m \u001b[38;5;28;01mimport\u001b[39;00m WeightNormalization\n\u001b[1;32m---> 44\u001b[0m \u001b[38;5;28;01mfrom\u001b[39;00m \u001b[38;5;21;01mtensorflow_addons\u001b[39;00m\u001b[38;5;21;01m.\u001b[39;00m\u001b[38;5;21;01mlayers\u001b[39;00m\u001b[38;5;21;01m.\u001b[39;00m\u001b[38;5;21;01mesn\u001b[39;00m \u001b[38;5;28;01mimport\u001b[39;00m ESN\n\u001b[0;32m     45\u001b[0m \u001b[38;5;28;01mfrom\u001b[39;00m \u001b[38;5;21;01mtensorflow_addons\u001b[39;00m\u001b[38;5;21;01m.\u001b[39;00m\u001b[38;5;21;01mlayers\u001b[39;00m\u001b[38;5;21;01m.\u001b[39;00m\u001b[38;5;21;01mstochastic_depth\u001b[39;00m \u001b[38;5;28;01mimport\u001b[39;00m StochasticDepth\n\u001b[0;32m     46\u001b[0m \u001b[38;5;28;01mfrom\u001b[39;00m \u001b[38;5;21;01mtensorflow_addons\u001b[39;00m\u001b[38;5;21;01m.\u001b[39;00m\u001b[38;5;21;01mlayers\u001b[39;00m\u001b[38;5;21;01m.\u001b[39;00m\u001b[38;5;21;01mnoisy_dense\u001b[39;00m \u001b[38;5;28;01mimport\u001b[39;00m NoisyDense\n",
      "File \u001b[1;32m~\\anaconda3\\Lib\\site-packages\\tensorflow_addons\\layers\\esn.py:18\u001b[0m\n\u001b[0;32m     15\u001b[0m \u001b[38;5;124;03m\"\"\"Implements Echo State recurrent Network (ESN) layer.\"\"\"\u001b[39;00m\n\u001b[0;32m     17\u001b[0m \u001b[38;5;28;01mimport\u001b[39;00m \u001b[38;5;21;01mtensorflow\u001b[39;00m \u001b[38;5;28;01mas\u001b[39;00m \u001b[38;5;21;01mtf\u001b[39;00m\n\u001b[1;32m---> 18\u001b[0m \u001b[38;5;28;01mfrom\u001b[39;00m \u001b[38;5;21;01mtensorflow_addons\u001b[39;00m\u001b[38;5;21;01m.\u001b[39;00m\u001b[38;5;21;01mrnn\u001b[39;00m \u001b[38;5;28;01mimport\u001b[39;00m ESNCell\n\u001b[0;32m     19\u001b[0m \u001b[38;5;28;01mfrom\u001b[39;00m \u001b[38;5;21;01mtypeguard\u001b[39;00m \u001b[38;5;28;01mimport\u001b[39;00m typechecked\n\u001b[0;32m     21\u001b[0m \u001b[38;5;28;01mfrom\u001b[39;00m \u001b[38;5;21;01mtensorflow_addons\u001b[39;00m\u001b[38;5;21;01m.\u001b[39;00m\u001b[38;5;21;01mutils\u001b[39;00m\u001b[38;5;21;01m.\u001b[39;00m\u001b[38;5;21;01mtypes\u001b[39;00m \u001b[38;5;28;01mimport\u001b[39;00m (\n\u001b[0;32m     22\u001b[0m     Activation,\n\u001b[0;32m     23\u001b[0m     FloatTensorLike,\n\u001b[0;32m     24\u001b[0m     TensorLike,\n\u001b[0;32m     25\u001b[0m     Initializer,\n\u001b[0;32m     26\u001b[0m )\n",
      "File \u001b[1;32m~\\anaconda3\\Lib\\site-packages\\tensorflow_addons\\rnn\\__init__.py:17\u001b[0m\n\u001b[0;32m      1\u001b[0m \u001b[38;5;66;03m# Copyright 2019 The TensorFlow Authors. All Rights Reserved.\u001b[39;00m\n\u001b[0;32m      2\u001b[0m \u001b[38;5;66;03m#\u001b[39;00m\n\u001b[0;32m      3\u001b[0m \u001b[38;5;66;03m# Licensed under the Apache License, Version 2.0 (the \"License\");\u001b[39;00m\n\u001b[1;32m   (...)\u001b[0m\n\u001b[0;32m     13\u001b[0m \u001b[38;5;66;03m# limitations under the License.\u001b[39;00m\n\u001b[0;32m     14\u001b[0m \u001b[38;5;66;03m# ==============================================================================\u001b[39;00m\n\u001b[0;32m     15\u001b[0m \u001b[38;5;124;03m\"\"\"Additional RNN cells that corform to Keras API.\"\"\"\u001b[39;00m\n\u001b[1;32m---> 17\u001b[0m \u001b[38;5;28;01mfrom\u001b[39;00m \u001b[38;5;21;01mtensorflow_addons\u001b[39;00m\u001b[38;5;21;01m.\u001b[39;00m\u001b[38;5;21;01mrnn\u001b[39;00m\u001b[38;5;21;01m.\u001b[39;00m\u001b[38;5;21;01mnas_cell\u001b[39;00m \u001b[38;5;28;01mimport\u001b[39;00m NASCell\n\u001b[0;32m     18\u001b[0m \u001b[38;5;28;01mfrom\u001b[39;00m \u001b[38;5;21;01mtensorflow_addons\u001b[39;00m\u001b[38;5;21;01m.\u001b[39;00m\u001b[38;5;21;01mrnn\u001b[39;00m\u001b[38;5;21;01m.\u001b[39;00m\u001b[38;5;21;01mlayer_norm_lstm_cell\u001b[39;00m \u001b[38;5;28;01mimport\u001b[39;00m LayerNormLSTMCell\n\u001b[0;32m     19\u001b[0m \u001b[38;5;28;01mfrom\u001b[39;00m \u001b[38;5;21;01mtensorflow_addons\u001b[39;00m\u001b[38;5;21;01m.\u001b[39;00m\u001b[38;5;21;01mrnn\u001b[39;00m\u001b[38;5;21;01m.\u001b[39;00m\u001b[38;5;21;01mlayer_norm_simple_rnn_cell\u001b[39;00m \u001b[38;5;28;01mimport\u001b[39;00m LayerNormSimpleRNNCell\n",
      "File \u001b[1;32m~\\anaconda3\\Lib\\site-packages\\tensorflow_addons\\rnn\\nas_cell.py:30\u001b[0m\n\u001b[0;32m     21\u001b[0m \u001b[38;5;28;01mfrom\u001b[39;00m \u001b[38;5;21;01mtensorflow_addons\u001b[39;00m\u001b[38;5;21;01m.\u001b[39;00m\u001b[38;5;21;01mutils\u001b[39;00m\u001b[38;5;21;01m.\u001b[39;00m\u001b[38;5;21;01mtypes\u001b[39;00m \u001b[38;5;28;01mimport\u001b[39;00m (\n\u001b[0;32m     22\u001b[0m     FloatTensorLike,\n\u001b[0;32m     23\u001b[0m     TensorLike,\n\u001b[0;32m     24\u001b[0m     Initializer,\n\u001b[0;32m     25\u001b[0m )\n\u001b[0;32m     26\u001b[0m \u001b[38;5;28;01mfrom\u001b[39;00m \u001b[38;5;21;01mtyping\u001b[39;00m \u001b[38;5;28;01mimport\u001b[39;00m Optional\n\u001b[0;32m     29\u001b[0m \u001b[38;5;129m@tf\u001b[39m\u001b[38;5;241m.\u001b[39mkeras\u001b[38;5;241m.\u001b[39mutils\u001b[38;5;241m.\u001b[39mregister_keras_serializable(package\u001b[38;5;241m=\u001b[39m\u001b[38;5;124m\"\u001b[39m\u001b[38;5;124mAddons\u001b[39m\u001b[38;5;124m\"\u001b[39m)\n\u001b[1;32m---> 30\u001b[0m \u001b[38;5;28;01mclass\u001b[39;00m \u001b[38;5;21;01mNASCell\u001b[39;00m(keras\u001b[38;5;241m.\u001b[39mlayers\u001b[38;5;241m.\u001b[39mAbstractRNNCell):\n\u001b[0;32m     31\u001b[0m \u001b[38;5;250m    \u001b[39m\u001b[38;5;124;03m\"\"\"Neural Architecture Search (NAS) recurrent network cell.\u001b[39;00m\n\u001b[0;32m     32\u001b[0m \n\u001b[0;32m     33\u001b[0m \u001b[38;5;124;03m    This implements the recurrent cell from the paper:\u001b[39;00m\n\u001b[1;32m   (...)\u001b[0m\n\u001b[0;32m     53\u001b[0m \u001b[38;5;124;03m    TensorShape([30, 4])\u001b[39;00m\n\u001b[0;32m     54\u001b[0m \u001b[38;5;124;03m    \"\"\"\u001b[39;00m\n\u001b[0;32m     56\u001b[0m     \u001b[38;5;66;03m# NAS cell's architecture base.\u001b[39;00m\n",
      "\u001b[1;31mAttributeError\u001b[0m: module 'keras._tf_keras.keras.layers' has no attribute 'AbstractRNNCell'"
     ]
    }
   ],
   "source": [
    "#import libs\n",
    "import numpy as np\n",
    "import tensorflow as tf\n",
    "from tensorflow import keras\n",
    "from tensorflow.keras import layers\n",
    "import tensorflow_addons as tfa"
   ]
  },
  {
   "cell_type": "markdown",
   "id": "dc04dfa7-b9ba-4c70-b9dd-f29c90905dff",
   "metadata": {},
   "source": [
    "# Preparing data"
   ]
  },
  {
   "cell_type": "code",
   "execution_count": 4,
   "id": "4e026835-e7ef-49e5-b8ba-2bf8a4716406",
   "metadata": {},
   "outputs": [
    {
     "name": "stdout",
     "output_type": "stream",
     "text": [
      "Downloading data from https://www.cs.toronto.edu/~kriz/cifar-10-python.tar.gz\n",
      "170498071/170498071 [==============================] - 233s 1us/step\n"
     ]
    }
   ],
   "source": [
    "num_classes=10\n",
    "input_shape=(32,32,3)\n",
    "(x_train, y_train), (x_test, y_test) = keras.datasets.cifar10.load_data()"
   ]
  },
  {
   "cell_type": "code",
   "execution_count": 24,
   "id": "e171f61b-6266-4b56-ab55-a17a79f5ba68",
   "metadata": {},
   "outputs": [],
   "source": [
    "x_train=x_train[:500]\n",
    "y_train=y_train[:500]\n",
    "x_test=x_test[:500]\n",
    "y_test=y_test[:500]"
   ]
  },
  {
   "cell_type": "code",
   "execution_count": 25,
   "id": "3c917a21-16bd-4334-99cd-e642ce3c29ed",
   "metadata": {},
   "outputs": [
    {
     "data": {
      "text/plain": [
       "(500, 32, 32, 3)"
      ]
     },
     "execution_count": 25,
     "metadata": {},
     "output_type": "execute_result"
    }
   ],
   "source": [
    "x_train.shape"
   ]
  },
  {
   "cell_type": "code",
   "execution_count": 26,
   "id": "303117a3-5ba1-4f1b-a77f-707efee9514a",
   "metadata": {},
   "outputs": [
    {
     "data": {
      "text/plain": [
       "(500, 1)"
      ]
     },
     "execution_count": 26,
     "metadata": {},
     "output_type": "execute_result"
    }
   ],
   "source": [
    "y_train.shape"
   ]
  },
  {
   "cell_type": "code",
   "execution_count": 27,
   "id": "b109f341-c204-4f6a-9ff0-b4a30eff878a",
   "metadata": {},
   "outputs": [
    {
     "data": {
      "text/plain": [
       "(500, 32, 32, 3)"
      ]
     },
     "execution_count": 27,
     "metadata": {},
     "output_type": "execute_result"
    }
   ],
   "source": [
    "x_test.shape"
   ]
  },
  {
   "cell_type": "code",
   "execution_count": 28,
   "id": "e93f9546-40b5-45ef-a58b-6a1a2edf1bd6",
   "metadata": {},
   "outputs": [
    {
     "data": {
      "text/plain": [
       "(500, 1)"
      ]
     },
     "execution_count": 28,
     "metadata": {},
     "output_type": "execute_result"
    }
   ],
   "source": [
    "y_test.shape"
   ]
  },
  {
   "cell_type": "markdown",
   "id": "404fbce7-438c-4a60-b04e-a0427ea81ff1",
   "metadata": {},
   "source": [
    "# Hyper Parameter Definition"
   ]
  },
  {
   "cell_type": "code",
   "execution_count": 43,
   "id": "207e50af-3002-46da-b892-e8fd639d0d8d",
   "metadata": {},
   "outputs": [],
   "source": [
    "#smaller learning_rate may make the model converge more slowly but result in better accuracy\n",
    "#specifies the step size at which the model weights are updated during the training process\n",
    "learning_rate = 0.001\n",
    "\n",
    "#weight_decay is a regularization technique that adds a penalty to the loss function to prevent overfitting, it determines the strength og the penalty\n",
    "weight_decay = 0.0001\n",
    "\n",
    "#training data size for each iteration\n",
    "batch_size = 256\n",
    "\n",
    "#no of times the entire data will be trained\n",
    "num_epochs = 30\n",
    "\n",
    "image_size = 72 #We will resize input images to this size\n",
    "\n",
    "#patches are smaller portions of the image that will be processed by the model\n",
    "patch_size = 6 #Size of the patches to be extracted from the imput images\n",
    "num_patches = (image_size//patch_size)**2\n",
    "projection_dim = 64\n",
    "num_heads = 4 #to determine no of attention heads in the model\n",
    "\n",
    "#transformer_units represents no of transformer layers in form of dimensions\n",
    "transformer_units = [\n",
    "    projection_dim*2,\n",
    "    projection_dim\n",
    "] #size of transformer layers\n",
    "transformer_layers = 8\n",
    "mlp_head_units = [2048, 1024] #size of the dense layers of the final classifier\n",
    "#mlp - multi layer perceptron"
   ]
  },
  {
   "cell_type": "markdown",
   "id": "15566b77-2ac9-4c79-b47e-2b58e6c4f537",
   "metadata": {},
   "source": [
    "# Build ViT Classifier"
   ]
  },
  {
   "cell_type": "markdown",
   "id": "842af722-9ead-4a4a-b6fc-1bb1243facbe",
   "metadata": {},
   "source": [
    "**Data Augmentation**"
   ]
  },
  {
   "cell_type": "code",
   "execution_count": 1,
   "id": "84bcc1fc-1703-4940-9895-f03aeae77cf2",
   "metadata": {},
   "outputs": [
    {
     "ename": "NameError",
     "evalue": "name 'keras' is not defined",
     "output_type": "error",
     "traceback": [
      "\u001b[1;31m---------------------------------------------------------------------------\u001b[0m",
      "\u001b[1;31mNameError\u001b[0m                                 Traceback (most recent call last)",
      "Cell \u001b[1;32mIn[1], line 1\u001b[0m\n\u001b[1;32m----> 1\u001b[0m data_augmentation \u001b[38;5;241m=\u001b[39m keras\u001b[38;5;241m.\u001b[39mSequential(\n\u001b[0;32m      2\u001b[0m     [\n\u001b[0;32m      3\u001b[0m         layers\u001b[38;5;241m.\u001b[39mNormalization(),\n\u001b[0;32m      4\u001b[0m         layers\u001b[38;5;241m.\u001b[39mResizing(image_size, image_size),\n\u001b[0;32m      5\u001b[0m         layers\u001b[38;5;241m.\u001b[39mRandomFlip(\u001b[38;5;124m\"\u001b[39m\u001b[38;5;124mhorizontal\u001b[39m\u001b[38;5;124m\"\u001b[39m),\n\u001b[0;32m      6\u001b[0m         layers\u001b[38;5;241m.\u001b[39mRandomRotation(factor\u001b[38;5;241m=\u001b[39m\u001b[38;5;241m0.2\u001b[39m),\n\u001b[0;32m      7\u001b[0m         layers\u001b[38;5;241m.\u001b[39mRandomZoom(height_factor\u001b[38;5;241m=\u001b[39m\u001b[38;5;241m0.2\u001b[39m, width_factor\u001b[38;5;241m=\u001b[39m\u001b[38;5;241m0.2\u001b[39m)\n\u001b[0;32m      8\u001b[0m     ],\n\u001b[0;32m      9\u001b[0m     name\u001b[38;5;241m=\u001b[39m\u001b[38;5;124m\"\u001b[39m\u001b[38;5;124mdata_augmentation\u001b[39m\u001b[38;5;124m\"\u001b[39m,\n\u001b[0;32m     10\u001b[0m )\n\u001b[0;32m     12\u001b[0m \u001b[38;5;66;03m#The mean and the variance of the training data is computed for normalization.\u001b[39;00m\n\u001b[0;32m     13\u001b[0m data_augmentation\u001b[38;5;241m.\u001b[39mlayers[\u001b[38;5;241m0\u001b[39m]\u001b[38;5;241m.\u001b[39madapt(x_train)\n",
      "\u001b[1;31mNameError\u001b[0m: name 'keras' is not defined"
     ]
    }
   ],
   "source": [
    "data_augmentation = keras.Sequential(\n",
    "    [\n",
    "        layers.Normalization(),\n",
    "        layers.Resizing(image_size, image_size),\n",
    "        layers.RandomFlip(\"horizontal\"),\n",
    "        layers.RandomRotation(factor=0.2),\n",
    "        layers.RandomZoom(height_factor=0.2, width_factor=0.2)\n",
    "    ],\n",
    "    name=\"data_augmentation\",\n",
    ")\n",
    "\n",
    "#The mean and the variance of the training data is computed for normalization.\n",
    "data_augmentation.layers[0].adapt(x_train)"
   ]
  },
  {
   "cell_type": "markdown",
   "id": "8e240df6-5d5d-4171-ae3c-952042cf71b1",
   "metadata": {},
   "source": [
    "# MLP Architecture"
   ]
  },
  {
   "cell_type": "code",
   "execution_count": 45,
   "id": "e332cf04-2895-490a-95ff-55d0fb959b5e",
   "metadata": {},
   "outputs": [],
   "source": [
    "def mlp(x, hidden_units, dropout_rate):\n",
    "    for units in hidden_units:\n",
    "        x = layers.Dense(units, activation=tf.nn.gelu)(x)\n",
    "        x = layers.Dropout(dropout_rate)(x)\n",
    "    return x"
   ]
  },
  {
   "cell_type": "markdown",
   "id": "2e3851b9-e7f5-4b1f-99b4-b91ca60f20b2",
   "metadata": {},
   "source": [
    "# Patches"
   ]
  },
  {
   "cell_type": "code",
   "execution_count": 46,
   "id": "7429cdcc-6884-4373-baab-909e13840c4d",
   "metadata": {},
   "outputs": [],
   "source": [
    "class Patches(layers.Layer):\n",
    "    def __init__(self, patch_size):\n",
    "        super(Patches, self).__init__()\n",
    "        self.patch_size = patch_size\n",
    "\n",
    "    def call(self, images):\n",
    "        batch_size = tf.shape(images)[0]\n",
    "        patches = tf.image.extract_patches(\n",
    "            images=images, \n",
    "            sizes = [1, self.patch_size, self.patch_size,1],\n",
    "            strides = [1, self.patch_size, self.patch_size,1],\n",
    "            rates=[1,1,1,1],\n",
    "            padding=\"VALID\" #size of images when falling short off their optimal size\n",
    "        )\n",
    "        patch_dim = patches.shape[-1]\n",
    "        patches = tf.reshape(patches, [batch_size, -1, patch_dim])\n",
    "        return patches"
   ]
  },
  {
   "cell_type": "markdown",
   "id": "969b4c5d-fb41-4724-82cd-a7a47c2aeb99",
   "metadata": {},
   "source": [
    "# Display patches"
   ]
  },
  {
   "cell_type": "code",
   "execution_count": 47,
   "id": "76e108b3-fa3b-4381-80bd-19f9cd533eb5",
   "metadata": {},
   "outputs": [
    {
     "name": "stdout",
     "output_type": "stream",
     "text": [
      "Image size: 72 X 72\n",
      "Patch size: 6 X 6\n",
      "Patches per image: 144\n",
      "Elements per patch: 108\n"
     ]
    },
    {
     "data": {
      "image/png": "[encoded data removed]",
      "text/plain": [
       "<Figure size 400x400 with 1 Axes>"
      ]
     },
     "metadata": {},
     "output_type": "display_data"
    },
    {
     "data": {
      "image/png": "[encoded data removed]",
      "text/plain": [
       "<Figure size 400x400 with 144 Axes>"
      ]
     },
     "metadata": {},
     "output_type": "display_data"
    }
   ],
   "source": [
    "import matplotlib.pyplot as plt\n",
    "plt.figure(figsize=(4,4))\n",
    "image = x_train[np.random.choice(range(x_train.shape[0]))]\n",
    "plt.imshow(image.astype(\"uint8\"))\n",
    "plt.axis('off')\n",
    "\n",
    "resized_image = tf.image.resize(tf.convert_to_tensor([image]), size=(image_size, image_size))\n",
    "patches = Patches(patch_size)(resized_image)\n",
    "print(f\"Image size: {image_size} X {image_size}\")\n",
    "print(f\"Patch size: {patch_size} X {patch_size}\")\n",
    "print(f\"Patches per image: {patches.shape[1]}\")\n",
    "print(f\"Elements per patch: {patches.shape[-1]}\")\n",
    "\n",
    "n = int(np.sqrt(patches.shape[1]))\n",
    "plt.figure(figsize=(4,4))\n",
    "for i, patch in enumerate(patches[0]):\n",
    "    ax = plt.subplot(n,n,i+1)\n",
    "    patch_image = tf.reshape(patch, (patch_size, patch_size,3))\n",
    "    plt.imshow(patch_image.numpy().astype(\"uint8\"))\n",
    "    plt.axis('off')"
   ]
  },
  {
   "cell_type": "markdown",
   "id": "c57c8a73-10f8-4882-9e80-2848805ec6ad",
   "metadata": {},
   "source": [
    "# Implementing the patch encoding layer"
   ]
  },
  {
   "cell_type": "code",
   "execution_count": 48,
   "id": "8a8e585c-73d1-4509-8e90-ce6e37ec7662",
   "metadata": {},
   "outputs": [],
   "source": [
    "class PatchEncoder(layers.Layer):\n",
    "    def __init__(self, num_patches, projection_dim):\n",
    "        super(PatchEncoder, self).__init__()\n",
    "        self.num_patches = num_patches\n",
    "        self.projection =layers.Dense(units=projection_dim)\n",
    "        self.position_embedding = layers.Embedding(input_dim=num_patches, output_dim=projection_dim)\n",
    "    def call(self,patch):\n",
    "        positions = tf.range(start=0, limit=self.num_patches, delta=1)\n",
    "        encoded = self.projection(patch) + self.position_embedding(positions)\n",
    "        return encoded"
   ]
  },
  {
   "cell_type": "markdown",
   "id": "af3015c7-d94a-46a7-8109-c3ae8e5225d3",
   "metadata": {},
   "source": [
    "# Building the ViT model"
   ]
  },
  {
   "cell_type": "code",
   "execution_count": 49,
   "id": "3755171b-140c-406c-bd89-4d719538205d",
   "metadata": {},
   "outputs": [],
   "source": [
    "def create_vit_classifier():\n",
    "    inputs = layers.Input(shape=input_shape)\n",
    "    augmentation = data_augmentation(inputs)\n",
    "    patches = Patches(patch_size)(augmentation)\n",
    "    encoded_patches = PatchEncoder(num_patches, projection_dim)(patches)\n",
    "    \n",
    "    for _ in range(transformer_layers):\n",
    "        x1 = layers.LayerNormalization(epsilon=1e-6)(encoded_patches)\n",
    "        attention_output = layers.MultiHeadAttention(\n",
    "            num_heads=num_heads,\n",
    "            key_dim=projection_dim, \n",
    "            dropout=0.1)(x1,x1)\n",
    "        x2 = layers.Add()([attention_output, encoded_patches])\n",
    "        x3 = layers.LayerNormalization(epsilon=1e-6)(x2)\n",
    "        x4 = mlp(x3, hidden_units=transformer_units, dropout_rate=0.1)\n",
    "        encoded_patches = layers.Add()([x4,x2])\n",
    "\n",
    "    representation = layers.LayerNormalization(epsilon=1e-6)(encoded_patches)\n",
    "    representation = layers.Flatten()(representation)\n",
    "    representation = layers.Dropout(0.5)(representation)\n",
    "    \n",
    "    features = mlp(representation, hidden_units=mlp_head_units, dropout_rate=0.5)\n",
    "    logits = layers.Dense(num_classes)(features)\n",
    "    model=keras.Model(inputs=inputs, outputs=logits)\n",
    "    return model"
   ]
  },
  {
   "cell_type": "markdown",
   "id": "c0824832-e853-49bd-839f-77304b554d59",
   "metadata": {},
   "source": [
    "# Compile, train and evaluate the model"
   ]
  },
  {
   "cell_type": "code",
   "execution_count": 50,
   "id": "376735b7-2a5e-4c7a-9fe9-f7fa9e012ad6",
   "metadata": {},
   "outputs": [],
   "source": [
    "def run(model):\n",
    "    optimizer = tfa.optimizers.AdamW(\n",
    "        learning_rate=learning_rate, weight_decay=weight_decay\n",
    "    )\n",
    "    model.compile(\n",
    "        optimizer=optimizer, loss=keras.losses.SparseCategoricalCrossentropy(from_logits=True),\n",
    "        metrics=[\n",
    "          keras.metrics.SparseCategoricalAccuracy(name=\"accuracy\"),\n",
    "          keras.metrics.SparseTopKCategoricalAccuracy(5, name=\"top-5-accuracy\"),\n",
    "          ],\n",
    "    )\n",
    "    checkpoint_filepath = \"./tmp/checkpoint\"\n",
    "    checkpoint_callback = keras.callbacks.ModelCheckpoint(\n",
    "      checkpoint_filepath,\n",
    "      monitor=\"val_accuracy\",\n",
    "      save_best_only=True,\n",
    "      save_weights_only=True\n",
    "    )\n",
    "    history = model.fit(\n",
    "        x=x_train, \n",
    "        y=y_train,\n",
    "        batch_size=batch_size,\n",
    "        epochs=num_epochs,\n",
    "        validation_split=0.1,\n",
    "        callbacks=[checkpoint_callback],)\n",
    "    _, accuracy, top_5_accuracy = model.evaluate(x_test, y_test)\n",
    "    print(f\"Test Accuracy: {round(accuracy*100), 2}%\")\n",
    "    print(f\"Test top 5 Accuracy: {round(top_5_accuracy*100), 2}%\")\n",
    "    "
   ]
  },
  {
   "cell_type": "code",
   "execution_count": 51,
   "id": "b907e259-d878-4c54-a42c-1d4b72e64f8a",
   "metadata": {},
   "outputs": [
    {
     "name": "stdout",
     "output_type": "stream",
     "text": [
      "Epoch 1/30\n",
      "2/2 [==============================] - 50s 19s/step - loss: 4.7091 - accuracy: 0.1444 - top-5-accuracy: 0.5733 - val_loss: 5.8491 - val_accuracy: 0.1600 - val_top-5-accuracy: 0.6400\n",
      "Epoch 2/30\n",
      "2/2 [==============================] - 28s 11s/step - loss: 6.3567 - accuracy: 0.1778 - top-5-accuracy: 0.6133 - val_loss: 3.4143 - val_accuracy: 0.1600 - val_top-5-accuracy: 0.7200\n",
      "Epoch 3/30\n",
      "2/2 [==============================] - 24s 11s/step - loss: 4.5719 - accuracy: 0.1733 - top-5-accuracy: 0.6333 - val_loss: 3.0169 - val_accuracy: 0.1400 - val_top-5-accuracy: 0.6800\n",
      "Epoch 4/30\n",
      "2/2 [==============================] - 29s 14s/step - loss: 3.5077 - accuracy: 0.1933 - top-5-accuracy: 0.6378 - val_loss: 2.3526 - val_accuracy: 0.1800 - val_top-5-accuracy: 0.7000\n",
      "Epoch 5/30\n",
      "2/2 [==============================] - 29s 14s/step - loss: 2.9373 - accuracy: 0.2000 - top-5-accuracy: 0.7111 - val_loss: 2.0711 - val_accuracy: 0.2400 - val_top-5-accuracy: 0.7600\n",
      "Epoch 6/30\n",
      "2/2 [==============================] - 30s 12s/step - loss: 2.6419 - accuracy: 0.2222 - top-5-accuracy: 0.7222 - val_loss: 2.1502 - val_accuracy: 0.1800 - val_top-5-accuracy: 0.7800\n",
      "Epoch 7/30\n",
      "2/2 [==============================] - 25s 11s/step - loss: 2.3733 - accuracy: 0.2311 - top-5-accuracy: 0.7511 - val_loss: 2.0578 - val_accuracy: 0.1600 - val_top-5-accuracy: 0.7200\n",
      "Epoch 8/30\n",
      "2/2 [==============================] - 26s 12s/step - loss: 2.2704 - accuracy: 0.2511 - top-5-accuracy: 0.7400 - val_loss: 2.0065 - val_accuracy: 0.2200 - val_top-5-accuracy: 0.8000\n",
      "Epoch 9/30\n",
      "2/2 [==============================] - 27s 12s/step - loss: 2.1624 - accuracy: 0.2578 - top-5-accuracy: 0.7844 - val_loss: 2.0260 - val_accuracy: 0.2200 - val_top-5-accuracy: 0.8200\n",
      "Epoch 10/30\n",
      "2/2 [==============================] - 28s 12s/step - loss: 2.2768 - accuracy: 0.2333 - top-5-accuracy: 0.7422 - val_loss: 2.0189 - val_accuracy: 0.1400 - val_top-5-accuracy: 0.8400\n",
      "Epoch 11/30\n",
      "2/2 [==============================] - 27s 12s/step - loss: 2.1575 - accuracy: 0.2489 - top-5-accuracy: 0.7956 - val_loss: 1.9820 - val_accuracy: 0.1800 - val_top-5-accuracy: 0.8400\n",
      "Epoch 12/30\n",
      "2/2 [==============================] - 31s 16s/step - loss: 2.2041 - accuracy: 0.2689 - top-5-accuracy: 0.7200 - val_loss: 1.9449 - val_accuracy: 0.3000 - val_top-5-accuracy: 0.8400\n",
      "Epoch 13/30\n",
      "2/2 [==============================] - 26s 12s/step - loss: 2.1076 - accuracy: 0.2978 - top-5-accuracy: 0.7756 - val_loss: 1.9488 - val_accuracy: 0.2800 - val_top-5-accuracy: 0.7800\n",
      "Epoch 14/30\n",
      "2/2 [==============================] - 26s 11s/step - loss: 2.1192 - accuracy: 0.2378 - top-5-accuracy: 0.8022 - val_loss: 1.9232 - val_accuracy: 0.2400 - val_top-5-accuracy: 0.8400\n",
      "Epoch 15/30\n",
      "2/2 [==============================] - 26s 13s/step - loss: 1.9386 - accuracy: 0.3111 - top-5-accuracy: 0.8133 - val_loss: 1.9027 - val_accuracy: 0.3200 - val_top-5-accuracy: 0.8600\n",
      "Epoch 16/30\n",
      "2/2 [==============================] - 25s 11s/step - loss: 2.0412 - accuracy: 0.3044 - top-5-accuracy: 0.8044 - val_loss: 1.9072 - val_accuracy: 0.3000 - val_top-5-accuracy: 0.8000\n",
      "Epoch 17/30\n",
      "2/2 [==============================] - 26s 12s/step - loss: 1.9722 - accuracy: 0.2911 - top-5-accuracy: 0.8067 - val_loss: 1.9097 - val_accuracy: 0.2000 - val_top-5-accuracy: 0.8000\n",
      "Epoch 18/30\n",
      "2/2 [==============================] - 26s 12s/step - loss: 1.9524 - accuracy: 0.2867 - top-5-accuracy: 0.8489 - val_loss: 1.9025 - val_accuracy: 0.1600 - val_top-5-accuracy: 0.8000\n",
      "Epoch 19/30\n",
      "2/2 [==============================] - 27s 11s/step - loss: 1.9006 - accuracy: 0.3200 - top-5-accuracy: 0.8133 - val_loss: 1.9220 - val_accuracy: 0.1800 - val_top-5-accuracy: 0.8200\n",
      "Epoch 20/30\n",
      "2/2 [==============================] - 26s 12s/step - loss: 1.8423 - accuracy: 0.3467 - top-5-accuracy: 0.8667 - val_loss: 1.9273 - val_accuracy: 0.2400 - val_top-5-accuracy: 0.7800\n",
      "Epoch 21/30\n",
      "2/2 [==============================] - 25s 11s/step - loss: 1.7638 - accuracy: 0.4111 - top-5-accuracy: 0.8667 - val_loss: 1.9570 - val_accuracy: 0.2200 - val_top-5-accuracy: 0.8200\n",
      "Epoch 22/30\n",
      "2/2 [==============================] - 26s 11s/step - loss: 1.8275 - accuracy: 0.3644 - top-5-accuracy: 0.8689 - val_loss: 1.9431 - val_accuracy: 0.2200 - val_top-5-accuracy: 0.8200\n",
      "Epoch 23/30\n",
      "2/2 [==============================] - 27s 12s/step - loss: 1.8455 - accuracy: 0.3444 - top-5-accuracy: 0.8644 - val_loss: 1.9134 - val_accuracy: 0.2200 - val_top-5-accuracy: 0.8800\n",
      "Epoch 24/30\n",
      "2/2 [==============================] - 26s 12s/step - loss: 1.7597 - accuracy: 0.3622 - top-5-accuracy: 0.8578 - val_loss: 1.9029 - val_accuracy: 0.2400 - val_top-5-accuracy: 0.8400\n",
      "Epoch 25/30\n",
      "2/2 [==============================] - 25s 11s/step - loss: 1.8408 - accuracy: 0.3444 - top-5-accuracy: 0.8467 - val_loss: 1.9172 - val_accuracy: 0.2400 - val_top-5-accuracy: 0.8000\n",
      "Epoch 26/30\n",
      "2/2 [==============================] - 27s 12s/step - loss: 1.7006 - accuracy: 0.3756 - top-5-accuracy: 0.8778 - val_loss: 1.9662 - val_accuracy: 0.2200 - val_top-5-accuracy: 0.8000\n",
      "Epoch 27/30\n",
      "2/2 [==============================] - 26s 12s/step - loss: 1.7243 - accuracy: 0.3933 - top-5-accuracy: 0.8533 - val_loss: 2.0185 - val_accuracy: 0.2400 - val_top-5-accuracy: 0.8000\n",
      "Epoch 28/30\n",
      "2/2 [==============================] - 28s 12s/step - loss: 1.6271 - accuracy: 0.4178 - top-5-accuracy: 0.8800 - val_loss: 1.9912 - val_accuracy: 0.2200 - val_top-5-accuracy: 0.7800\n",
      "Epoch 29/30\n",
      "2/2 [==============================] - 25s 11s/step - loss: 1.7028 - accuracy: 0.3889 - top-5-accuracy: 0.8778 - val_loss: 1.9908 - val_accuracy: 0.2400 - val_top-5-accuracy: 0.8000\n",
      "Epoch 30/30\n",
      "2/2 [==============================] - 25s 11s/step - loss: 1.6708 - accuracy: 0.3911 - top-5-accuracy: 0.8867 - val_loss: 1.9604 - val_accuracy: 0.2200 - val_top-5-accuracy: 0.8000\n",
      "16/16 [==============================] - 8s 517ms/step - loss: 1.8894 - accuracy: 0.3220 - top-5-accuracy: 0.8320\n",
      "Test Accuracy: (32, 2)%\n",
      "Test top 5 Accuracy: (83, 2)%\n"
     ]
    }
   ],
   "source": [
    "vit_classifier = create_vit_classifier()\n",
    "history = run(vit_classifier)"
   ]
  },
  {
   "cell_type": "code",
   "execution_count": 52,
   "id": "68a8aeba-2c46-42ca-a465-6e70b151ca7f",
   "metadata": {},
   "outputs": [
    {
     "name": "stdout",
     "output_type": "stream",
     "text": [
      "[name: \"/device:CPU:0\"\n",
      "device_type: \"CPU\"\n",
      "memory_limit: 268435456\n",
      "locality {\n",
      "}\n",
      "incarnation: 13323620541893302850\n",
      "xla_global_id: -1\n",
      "]\n"
     ]
    }
   ],
   "source": [
    "from tensorflow.python.client import device_lib\n",
    "print(device_lib.list_local_devices())"
   ]
  },
  {
   "cell_type": "code",
   "execution_count": 53,
   "id": "286f0e2a-95e7-4032-acbc-65dbaba7f7aa",
   "metadata": {},
   "outputs": [],
   "source": [
    "class_names = [\n",
    "    'airplane',\n",
    "    'automobile',\n",
    "    'bird',\n",
    "    'cat',\n",
    "    'deer',\n",
    "    'dog',\n",
    "    'frog',\n",
    "    'horse',\n",
    "    'ship',\n",
    "    'truck']"
   ]
  },
  {
   "cell_type": "code",
   "execution_count": 54,
   "id": "62d44b35-5c81-4c8e-a1af-0bc55d67a432",
   "metadata": {},
   "outputs": [],
   "source": [
    "def img_predict(images, model):\n",
    "    if len(images.shape)==3:\n",
    "        out=model.predict(images.reshape(-1,*images.shape))\n",
    "    else:\n",
    "        out=model.predict(images)\n",
    "    prediction=np.argmax(out, axis=1)\n",
    "    img_prediction=[class_names[i] for i in prediction]\n",
    "    return img_prediction"
   ]
  },
  {
   "cell_type": "code",
   "execution_count": 55,
   "id": "975a284b-609c-47f7-bc25-f22013bb587c",
   "metadata": {},
   "outputs": [
    {
     "name": "stdout",
     "output_type": "stream",
     "text": [
      "1/1 [==============================] - 3s 3s/step\n",
      "['dog']\n"
     ]
    },
    {
     "data": {
      "image/png": "[encoded data removed]",
      "text/plain": [
       "<Figure size 640x480 with 1 Axes>"
      ]
     },
     "metadata": {},
     "output_type": "display_data"
    }
   ],
   "source": [
    "index=16\n",
    "plt.imshow(x_test[index])\n",
    "prediction=img_predict(x_test[index], vit_classifier)\n",
    "print(prediction)"
   ]
  },
  {
   "cell_type": "code",
   "execution_count": null,
   "id": "e109e9b6-4989-4754-8da9-2885fd4f2ffa",
   "metadata": {},
   "outputs": [],
   "source": []
  }
 ],
 "metadata": {
  "kernelspec": {
   "display_name": "Python 3 (ipykernel)",
   "language": "python",
   "name": "python3"
  },
  "language_info": {
   "codemirror_mode": {
    "name": "ipython",
    "version": 3
   },
   "file_extension": ".py",
   "mimetype": "text/x-python",
   "name": "python",
   "nbconvert_exporter": "python",
   "pygments_lexer": "ipython3",
   "version": "3.11.7"
  }
 },
 "nbformat": 4,
 "nbformat_minor": 5
}
